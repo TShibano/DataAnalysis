import torch
import numpy as np


print(f'torch: {torch.__version__}')
print(f'np: {np.__version__}')


# Directly from data
data = [[1, 2], [3, 4]]
x_data = torch.tensor(data)
x_data


# From a NumPy array
np_array = np.array([[1, 2], [3, 4]])
x_np = torch.from_numpy(np_array)
x_np


# retians the properties of x_data
x_ones = torch.ones_like(x_data)
print(f'Ones Tensor:\n {x_ones}')

# overrides the datatype pf x_data
x_rand = torch.rand_like(x_data, dtype=torch.float32)
print(f'Random Tensor: \n {x_rand} \n')


shape = (2, 2, )
rand_tensor = torch.rand(shape)
ones_tensor = torch.ones(shape)
zeros_tensor = torch.zeros(shape)

print(f'Random Tensor: \n {rand_tensor} \n')
print(f'Ones Tensor: \n {ones_tensor} \n')
print(f'Zeors Tensor: \n {zeros_tensor} \n')


tensor1 = torch.ones((2))        # 2 vector
tensor2 = torch.ones((2, 3))     # 2x3 matrix
tensor3 = torch.ones((2, 3, 4))  # 2x3x4 tensor
tensor4 = torch.ones((2, 3, ))   # 2x3 matrix
print(f'shape (2): \n {tensor1}\n')
print(f'shape (2, 3):\n  {tensor2}\n')
print(f'shape (2, 3, 4)):\n  {tensor3}\n')
print(f'shape (2, 3, ):\n  {tensor4}\n')


tensor = torch.rand(3, 4)
print(tensor)
print(f'Shape of tensor: {tensor.shape}')
print(f'Datatype of tensor: {tensor.dtype}')
print(f'Device tensor is stored on: {tensor.device}')


# We move our tensor to the GPU if available
device = 'cuda' if torch.cuda.is_available() else 'cpu'
print(f'now using device: {device}')

if torch.cuda.is_available():
    tensor = tensor.to('cuda')
    tensor = tensor.to(device)


tensor = torch.ones((4, 3))
print(f'tensor: \n {tensor}\n')
print(f'First row: \n {tensor[0]}\n')
print(f'First column: \n {tensor[:, 0]} \n')
print(f'Last column: \n {tensor[:, -1]} \n ')

tensor[:, 1] = 0
print(tensor)


t = torch.Tensor([[1, 2, 3], [4, 5, 6]])
print(f't: \n {t} \n')

# torch.cat(tensor, dim=1) -> 列に追加(concatenate column)
t1 = torch.cat([t, t, t], dim=1)
print(f't1: \n {t1} \n')

# torch.cat(tensor, dim=0) -> 行に追加(concatenate row)
t0 = torch.cat([t, t, t], dim=0)
print(f't0: \n {t0}, \n')


t = torch.Tensor([[1, 2, 3], [4, 5, 6]])

# torch.stack(tensor, dim=1) -> 行ごとに追加する
ts1 = torch.stack([t, t, t], dim=1)
print(f'ts1: \n {ts1} \n')

# torch.stack(tensor, dim=0) -> 一つの塊として追加する
ts0 = torch.stack([t, t, t], dim=0)
print(f'ts0: \n {ts0} \n')


tensor = torch.rand((3, 4))
print(tensor)
agg = tensor.sum()
agg_item = agg.item()
print(f'agg: {agg}, type(agg): {type(agg)}')
print(f'agg_item: {agg_item}, type(agg_item): {type(agg_item)}')


tensor = torch.ones((2, 3))
print(tensor, '\n')
tensor.add_(5)
print(tensor)


t = torch.ones(5)
print(f't: {t}')
n = t.numpy()
print(f'n: {n}')


t.add_(1)
print(f't: {t}')
print(f'n: {n}')


n = np.ones(5)
t = torch.from_numpy(n)
print(f't: {t}')
print(f'n: {n}')


np.add(n, 1, out=n)
print(f't: {t}')
print(f'n: {n}')



