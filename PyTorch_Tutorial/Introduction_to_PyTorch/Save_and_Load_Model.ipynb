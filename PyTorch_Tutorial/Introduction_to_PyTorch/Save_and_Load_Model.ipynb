{
 "cells": [
  {
   "cell_type": "markdown",
   "id": "2655d778-2a75-4b04-b2b8-1ce36f2362a1",
   "metadata": {},
   "source": [
    "# Save and load the model\n",
    "In this section we will look at how to persist model state with saving, loading and running model predictions.\n"
   ]
  },
  {
   "cell_type": "markdown",
   "id": "b28c84a5-8c24-40d3-bc86-a91045ad6c49",
   "metadata": {},
   "source": [
    "このセクションでは，モデル予測の保存，読み込み，実行を行なってモデルの状態を永続化する方法を見る．"
   ]
  },
  {
   "cell_type": "code",
   "execution_count": 1,
   "id": "287b73d3-dd79-4923-b900-bcf45df634bb",
   "metadata": {},
   "outputs": [],
   "source": [
    "import torch\n",
    "import torch.onnx as onnx\n",
    "import torchvision.models as models"
   ]
  },
  {
   "cell_type": "markdown",
   "id": "f5be968d-f9f2-4c68-b6f9-02f53fbec552",
   "metadata": {},
   "source": [
    "## Saving and Loading Model Weights\n",
    "PyTorch models store the learned parameters in an internal state dictionary, called `state_dict`.\n",
    "These can be persisted via the `torch.save` method:"
   ]
  },
  {
   "cell_type": "markdown",
   "id": "479e53e6-da4c-4abe-929e-611ae65b635a",
   "metadata": {},
   "source": [
    "PyTorchモデルは，`state_dict`と言われる内部状態ディクショナリ内で学習したパラメータを保存する．\n",
    "これらは`torch.save`メソッドを通して永続化できる．"
   ]
  },
  {
   "cell_type": "code",
   "execution_count": 2,
   "id": "172d11f6-9802-4eab-9e4c-f10a751fec48",
   "metadata": {},
   "outputs": [
    {
     "name": "stderr",
     "output_type": "stream",
     "text": [
      "Downloading: \"https://download.pytorch.org/models/vgg16-397923af.pth\" to /Users/shibanotoshiki/.cache/torch/hub/checkpoints/vgg16-397923af.pth\n"
     ]
    },
    {
     "data": {
      "application/vnd.jupyter.widget-view+json": {
       "model_id": "74e0ff0b3e2a4da08418742c64f1a929",
       "version_major": 2,
       "version_minor": 0
      },
      "text/plain": [
       "  0%|          | 0.00/528M [00:00<?, ?B/s]"
      ]
     },
     "metadata": {},
     "output_type": "display_data"
    }
   ],
   "source": [
    "# causing!\n",
    "# vgg16 model has over 100M parameters.\n",
    "# So the size of  'model_weights.pth' file is over 500 MB.\n",
    "model = models.vgg16(pretrained=True)\n",
    "torch.save(model.state_dict(), 'model_weights.pth')"
   ]
  },
  {
   "cell_type": "markdown",
   "id": "8290f7a2-1623-4137-8996-22525ba015ae",
   "metadata": {},
   "source": [
    "To load model weights, you need to create an instance of the same model first, and then load the parameters using `load_state_dict()` method.\n"
   ]
  },
  {
   "cell_type": "markdown",
   "id": "4c6c5594-e2da-484d-b18b-7a7db93ffe99",
   "metadata": {},
   "source": [
    "モデルの重みを読み込むために，最初にモデルのインスタンスの作成し，`laod_state_dict()`メソッドを用いてパラメータを読み込む．"
   ]
  },
  {
   "cell_type": "code",
   "execution_count": 3,
   "id": "728f540e-4f27-47a6-ac47-a93e0ff0e493",
   "metadata": {},
   "outputs": [
    {
     "data": {
      "text/plain": [
       "VGG(\n",
       "  (features): Sequential(\n",
       "    (0): Conv2d(3, 64, kernel_size=(3, 3), stride=(1, 1), padding=(1, 1))\n",
       "    (1): ReLU(inplace=True)\n",
       "    (2): Conv2d(64, 64, kernel_size=(3, 3), stride=(1, 1), padding=(1, 1))\n",
       "    (3): ReLU(inplace=True)\n",
       "    (4): MaxPool2d(kernel_size=2, stride=2, padding=0, dilation=1, ceil_mode=False)\n",
       "    (5): Conv2d(64, 128, kernel_size=(3, 3), stride=(1, 1), padding=(1, 1))\n",
       "    (6): ReLU(inplace=True)\n",
       "    (7): Conv2d(128, 128, kernel_size=(3, 3), stride=(1, 1), padding=(1, 1))\n",
       "    (8): ReLU(inplace=True)\n",
       "    (9): MaxPool2d(kernel_size=2, stride=2, padding=0, dilation=1, ceil_mode=False)\n",
       "    (10): Conv2d(128, 256, kernel_size=(3, 3), stride=(1, 1), padding=(1, 1))\n",
       "    (11): ReLU(inplace=True)\n",
       "    (12): Conv2d(256, 256, kernel_size=(3, 3), stride=(1, 1), padding=(1, 1))\n",
       "    (13): ReLU(inplace=True)\n",
       "    (14): Conv2d(256, 256, kernel_size=(3, 3), stride=(1, 1), padding=(1, 1))\n",
       "    (15): ReLU(inplace=True)\n",
       "    (16): MaxPool2d(kernel_size=2, stride=2, padding=0, dilation=1, ceil_mode=False)\n",
       "    (17): Conv2d(256, 512, kernel_size=(3, 3), stride=(1, 1), padding=(1, 1))\n",
       "    (18): ReLU(inplace=True)\n",
       "    (19): Conv2d(512, 512, kernel_size=(3, 3), stride=(1, 1), padding=(1, 1))\n",
       "    (20): ReLU(inplace=True)\n",
       "    (21): Conv2d(512, 512, kernel_size=(3, 3), stride=(1, 1), padding=(1, 1))\n",
       "    (22): ReLU(inplace=True)\n",
       "    (23): MaxPool2d(kernel_size=2, stride=2, padding=0, dilation=1, ceil_mode=False)\n",
       "    (24): Conv2d(512, 512, kernel_size=(3, 3), stride=(1, 1), padding=(1, 1))\n",
       "    (25): ReLU(inplace=True)\n",
       "    (26): Conv2d(512, 512, kernel_size=(3, 3), stride=(1, 1), padding=(1, 1))\n",
       "    (27): ReLU(inplace=True)\n",
       "    (28): Conv2d(512, 512, kernel_size=(3, 3), stride=(1, 1), padding=(1, 1))\n",
       "    (29): ReLU(inplace=True)\n",
       "    (30): MaxPool2d(kernel_size=2, stride=2, padding=0, dilation=1, ceil_mode=False)\n",
       "  )\n",
       "  (avgpool): AdaptiveAvgPool2d(output_size=(7, 7))\n",
       "  (classifier): Sequential(\n",
       "    (0): Linear(in_features=25088, out_features=4096, bias=True)\n",
       "    (1): ReLU(inplace=True)\n",
       "    (2): Dropout(p=0.5, inplace=False)\n",
       "    (3): Linear(in_features=4096, out_features=4096, bias=True)\n",
       "    (4): ReLU(inplace=True)\n",
       "    (5): Dropout(p=0.5, inplace=False)\n",
       "    (6): Linear(in_features=4096, out_features=1000, bias=True)\n",
       "  )\n",
       ")"
      ]
     },
     "execution_count": 3,
     "metadata": {},
     "output_type": "execute_result"
    }
   ],
   "source": [
    "model = models.vgg16() # we do not specify pretraind=True, i.e. do not load default weights\n",
    "model.load_state_dict(torch.load('model_weights.pth'))\n",
    "model.eval()"
   ]
  },
  {
   "cell_type": "markdown",
   "id": "8720849c-611d-40d1-8bf4-57e47ad03f79",
   "metadata": {},
   "source": [
    "#### NOTE\n",
    "be sure to call `model.eval()` method before inferencing to set the dropout and batch normalization layers to evaluation mode.\n",
    "Failing to do this will yield inconsistent inference results.\n"
   ]
  },
  {
   "cell_type": "markdown",
   "id": "25c93b30-0d8c-41c0-b86e-a5644f766bbd",
   "metadata": {},
   "source": [
    "ドロップアウト層とバッチ正規化層を評価モードに設定するために，推論する前に必ず，`model.eval()`メソッドを呼ぶ．\n",
    "これを怠ると，一貫性のない推論結果が得られる．"
   ]
  },
  {
   "cell_type": "markdown",
   "id": "bf90df50-1cde-4a55-adcd-20400c538785",
   "metadata": {},
   "source": [
    "## Saving and Loading Models with Shapes\n",
    "When loading model wights, we needed to instantiate the model class first, because the calss defines the structure of a network.\n",
    "We might want to save the structure of this class together with the model, in which case we can pass `model` (and not `model.state_dict()`) to the saving function:\n",
    "\n"
   ]
  },
  {
   "cell_type": "markdown",
   "id": "5ed14249-0c20-475e-a175-d1954343b5a6",
   "metadata": {},
   "source": [
    "モデルの重みを読み込む時，クラスはネットワークの構造を定義するために，モデルクラスをインスタンス化する必要があった．\n",
    "モデルと一緒にクラスの構造を保存したい場合は，`model.state_dict()`ではなく，`model`を保存関数に渡す．"
   ]
  },
  {
   "cell_type": "code",
   "execution_count": 4,
   "id": "9c357966-2ec4-44af-9ea4-aefb19351118",
   "metadata": {},
   "outputs": [],
   "source": [
    "torch.save(model, 'model.pth')"
   ]
  },
  {
   "cell_type": "markdown",
   "id": "e697fbde-1a28-4df8-a711-28778bbbd72e",
   "metadata": {},
   "source": [
    "We can then load the model like this:\n"
   ]
  },
  {
   "cell_type": "markdown",
   "id": "01707c58-3225-4ab0-93d3-12871bdd8740",
   "metadata": {},
   "source": [
    "このようにモデルを読み込むことができる．"
   ]
  },
  {
   "cell_type": "code",
   "execution_count": 5,
   "id": "e98a6a18-6c02-4421-8670-9ab071b00bba",
   "metadata": {},
   "outputs": [],
   "source": [
    "model = torch.load('model.pth')"
   ]
  },
  {
   "cell_type": "markdown",
   "id": "5a36f1ed-9cae-4925-ab27-5c7eedce8557",
   "metadata": {},
   "source": [
    "#### NOTE\n",
    "This approach uses Python [pickle](https://docs.python.org/3/library/pickle.html) module when serializing the model, thus it relies on the actual class definition to be abailable when loading the model.\n"
   ]
  },
  {
   "cell_type": "markdown",
   "id": "244e537b-fdf9-4c95-9582-409397eec5b1",
   "metadata": {},
   "source": [
    "このアプローチでは，モデルをシリアル化する時にPythonのpickleモジュールを使うため，モデルをロードする時に使用できる実際のクラス定義に依存する．\n"
   ]
  },
  {
   "cell_type": "markdown",
   "id": "4d29dc89-1225-429f-8cba-ec5ea84c7829",
   "metadata": {},
   "source": [
    "## Exporting Model to ONNX\n",
    "PyTorch also has native ONNX export support.\n",
    "Given the dynamic nature of the PyTorch execution graph, however, the export process must traverse the execution graph to produce a persisted ONNX model.\n",
    "For this reason, a test variable of the appropriate size should be passed in to the export routine (in our case, we will create a dummy zero tensor of the correct size):\n",
    "\n"
   ]
  },
  {
   "cell_type": "markdown",
   "id": "63dcf367-0174-4410-afed-a992d65bc368",
   "metadata": {},
   "source": [
    "PyTorchはネイティブONNX出力もサポートしている．\n",
    "しかしながら，PyTorch実行グラフのダイナミックな性質を考えると，永続化されたONNXモデルを生成するためには，出力過程は実行グラフを横切らなければならない．\n",
    "このため，適切なサイズのテスト変数を出力ルーティンに渡す必要がある(この場合，正しいサイズのダミーのゼロtensorを渡す)．"
   ]
  },
  {
   "cell_type": "code",
   "execution_count": 7,
   "id": "a35f7bb2-622b-41b7-b42e-a05428bd6a2e",
   "metadata": {},
   "outputs": [],
   "source": [
    "input_image = torch.zeros((1, 3, 224, 224))\n",
    "onnx.export(model, input_image, 'model.onnx')"
   ]
  },
  {
   "cell_type": "markdown",
   "id": "bc1e99ba-226a-4516-9d48-c200ee8f4f2e",
   "metadata": {},
   "source": [
    "There are a lot of things you can do with ONNX model, including running inference on different platforms and in different programming languages.\n",
    "For more details, we recommend visiting [ONNX tutorial](https://github.com/onnx/tutorials).\n"
   ]
  },
  {
   "cell_type": "markdown",
   "id": "42b3e15e-b7f1-4975-894a-0232cea24689",
   "metadata": {},
   "source": [
    "様々なプラットフォームやプログラミング言語で推論できるなど，ONNXモデルでできることはたくさんある．\n",
    "詳しくはONNXチュートリアルを訪れることをお勧めします．"
   ]
  },
  {
   "cell_type": "markdown",
   "id": "4a56e78f-a41e-4043-b068-8daf9c2160ad",
   "metadata": {},
   "source": [
    "Congratulations!\n",
    "You have completed the PyTorch beginner tutorial!\n",
    "Try [revisiting the first page](https://pytorch.org/tutorials/beginner/basics/quickstart_tutorial.html) \n",
    "to see the tutorial in its entirety again.\n",
    "We hope this tutorial has helped you get started with deep learning on PyTorch.\n",
    "Good luck!"
   ]
  },
  {
   "cell_type": "markdown",
   "id": "d172b923-25f0-43e2-9172-320bab135ac0",
   "metadata": {},
   "source": [
    "おめでとう！\n",
    "PyTorch初心者チュートリアルは完了したよ！\n",
    "もう一度最初のページ(Quickstard)に戻ってみよう．\n",
    "このチュートリアルがあなたがPyTorchでDeep Learningを始めるのに役立つことを願っているよ．\n",
    "頑張ろう！"
   ]
  }
 ],
 "metadata": {
  "kernelspec": {
   "display_name": "Python 3",
   "language": "python",
   "name": "python3"
  },
  "language_info": {
   "codemirror_mode": {
    "name": "ipython",
    "version": 3
   },
   "file_extension": ".py",
   "mimetype": "text/x-python",
   "name": "python",
   "nbconvert_exporter": "python",
   "pygments_lexer": "ipython3",
   "version": "3.8.3"
  }
 },
 "nbformat": 4,
 "nbformat_minor": 5
}
