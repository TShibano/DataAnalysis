{
 "cells": [
  {
   "cell_type": "markdown",
   "id": "a2a0fe90-2cbc-42b2-aee9-1c51ec5e0a7e",
   "metadata": {},
   "source": [
    "# Datasets & DataLoaders\n",
    "Code for processing data sampeles can get messy and hard maintain; \n",
    "we ideally want our dataset code to be decoupled from our model training code for better readability and modularity.\n",
    "PyTorch provides two data primitives: `torch.utils.data.DataLoader` and `torch.utlis.data.Dataset` that allow tou to use pre-loaded datasets as well as your own data.\n",
    "`Dataset` stores the samples and their corresponding labels, and `DataLoader` wraps an iterable around the `Dataset` to enable easy access to the samples\n",
    "\n",
    "PyTorch domain libraries provide a number of pre-loaded datasets (such as FashionMNIST) that subclass `torch.utils.data.Dataset` and implement functions specific to the particular data.\n",
    "They can be used to prototype and benchmarck your model.\n",
    "You can find them here: [Image Datasets](https://pytorch.org/vision/stable/datasets.html), [Text Datasets](https://pytorch.org/text/stable/datasets.html), and [Audio Datasets](https://pytorch.org/audio/stable/datasets.html).\n",
    "\n",
    "データサンプルを処理するためのコードは乱雑で維持が難しくなり可能性がある；\n",
    "理想的には可読性とモジュール性を良くする為に，データセットのコードとモデルトレーニングのコードを分断させたい．\n",
    "PyTorchは，二つのプリミティブ型がある：`torch.utils.data.DataLoader`と`torch.utils.data.Dataset`であり，これらは自分のデータと同様に事前にロードされたデータを使うことができる．\n",
    "`Dataset`はラベルと対応したサンプルが保存され，`DataLoader`はサンプルにアクセスしやすくする為に`Dataset`周りのイテラブルをラップしている．\n",
    "\n",
    "PyTorchのドメインライブラリは，`torch.utils.data.Dataset`のサブクラスでFasionMNISTのような事前にロードされたデータセットをいくつか提供し，特定のデータに固有の関数を実装している．\n",
    "自分のモデルのプロトタイプやベンチマークとして使用できる．\n",
    "詳しくはURLを見る．"
   ]
  },
  {
   "cell_type": "markdown",
   "id": "d31e9e95-783e-45a7-b57f-75bcd5ef5909",
   "metadata": {},
   "source": [
    "## Loading a Dataset\n",
    "Here is an example of how to load the Fashion-MNIST dataset from TorchVision. \n",
    "Fashion-MNIST is a dataset of Zalando's article images consisting of 60,000 training examples and 10,000 test examples.\n",
    "Each example comprises a 28x28 grayscale image and associated label from one of 10 calsses.\n",
    "\n",
    "We load the Fashion MNIST Dataset with the following parameters.\n",
    "\n",
    "- `root` is the path where the train/test data is stored,\n",
    "- `train` specifies training or test dataset,\n",
    "- `download=True` downloads the data from the internet if it's not abailable at `root`.\n",
    "- `transform` and `target_transform` specify the feature and label transformations.\n",
    "\n",
    "ここではTorchVisionのFashion-MNISTデータセットのロードの仕方を例に説明する．\n",
    "Fasion-MNISTは60,000枚のトレーニング画像と10,000枚のテスト画像からなるZalando社の画像である．\n",
    "それぞれの画像は28x28のグレースケールで，ラベルは10クラスからなる．\n",
    "\n",
    "以下のパラメータを指定して，FashionMNISTデータセットをロードする．\n",
    "\n",
    "- `root`は訓練/テストデータが保存されているパスである\n",
    "- `train`は訓練かテストかを指定する\n",
    "- `download=True`は`root`が利用できなければインターネットからダウンロードする\n",
    "- `transform`と`target_transform`は特徴量とラベルを変換方法を指定する"
   ]
  },
  {
   "cell_type": "code",
   "execution_count": 2,
   "id": "04082971-438a-44e9-95e6-73e5eb9dc56d",
   "metadata": {},
   "outputs": [],
   "source": [
    "import torch\n",
    "from torch.utils.data import Dataset\n",
    "from torchvision import datasets\n",
    "from torchvision.transforms import ToTensor\n",
    "import matplotlib.pyplot as plt"
   ]
  },
  {
   "cell_type": "code",
   "execution_count": 3,
   "id": "37c6035d-4237-465c-9185-c3f156424a5e",
   "metadata": {},
   "outputs": [
    {
     "name": "stdout",
     "output_type": "stream",
     "text": [
      "torch ver. 1.8.1\n"
     ]
    }
   ],
   "source": [
    "print(f'torch ver. {torch.__version__}')"
   ]
  },
  {
   "cell_type": "code",
   "execution_count": 4,
   "id": "ffa07009-f40b-40e6-a3cc-9b76ba801f99",
   "metadata": {},
   "outputs": [],
   "source": [
    "training_data = datasets.FashionMNIST(\n",
    "    root='data',\n",
    "    train=True,\n",
    "    download=True,\n",
    "    transform=ToTensor()\n",
    ")\n",
    "test_data = datasets.FashionMNIST(\n",
    "    root='data',\n",
    "    train=True,\n",
    "    download=True,\n",
    "    transform=ToTensor()\n",
    ")"
   ]
  },
  {
   "cell_type": "markdown",
   "id": "43f43478-f302-47fb-851c-58fd856d3aeb",
   "metadata": {},
   "source": [
    "## Iterating and Visualizing the Dataset\n",
    "We can index `Datasets` manually like at a list: `training_data[index]`.\n",
    "We use `matplotlib` to visualize some samples in our training data.\n",
    "\n",
    "リストのように手動で`Datasets`をインデックス指定できる．\n",
    "`matplotlib`を使ってトレーニングデータの画像を可視化できる．"
   ]
  },
  {
   "cell_type": "code",
   "execution_count": 5,
   "id": "3a781c54-05a7-4c7a-b70b-f23c25f348f2",
   "metadata": {},
   "outputs": [
    {
     "data": {
      "image/png": "[encoded data removed]",
      "text/plain": [
       "<Figure size 576x576 with 9 Axes>"
      ]
     },
     "metadata": {
      "needs_background": "light"
     },
     "output_type": "display_data"
    }
   ],
   "source": [
    "labels_map = {\n",
    "    0: 'T-shirt',\n",
    "    1: 'Trouser',\n",
    "    2: 'Pullover',\n",
    "    3: 'Dress',\n",
    "    4: 'Coat',\n",
    "    5: 'Sandal',\n",
    "    6: 'Shirt',\n",
    "    7: 'Sneaker',\n",
    "    8: 'Bag',\n",
    "    9: 'Ankle Boot',\n",
    "}\n",
    "figure = plt.figure(figsize=(8, 8))\n",
    "cols, rows = 3, 3\n",
    "for i in range(1, cols*rows+1):\n",
    "    # item(): one element tensor can be converted to Python scalar\n",
    "    sample_idx = torch.randint(len(training_data), size=(1, )).item()\n",
    "    img, label = training_data[sample_idx]\n",
    "    figure.add_subplot(rows, cols, i)\n",
    "    plt.title(labels_map[label])\n",
    "    plt.axis('off')\n",
    "    # squeeze(): removed the dimension of input of size 1.\n",
    "    plt.imshow(img.squeeze(), cmap='gray')\n",
    "plt.show()"
   ]
  },
  {
   "cell_type": "markdown",
   "id": "9714a460-8931-4e3b-8c22-54997cd46228",
   "metadata": {},
   "source": [
    "- `item()`メソッドは，tensor型からPythonのスカラーに変換する\n",
    "- `squeeze()`メソッドは，tensorの次元が1の部分を削除する．"
   ]
  },
  {
   "cell_type": "markdown",
   "id": "c2761bca-f146-4d01-a0e0-2bbc398b5eb9",
   "metadata": {},
   "source": [
    "## Creating a Custom Dataset for your files\n",
    "A custom Dataset class must implement three functions: `__init__`, `__len__`, and `__getitem__`.\n",
    "Take a look at this implementation; the FashionMNIST images are stored in a directory `img_dir`, and their labels are stored separately in a CSV file `annotation_file`.\n",
    "\n",
    "In the next section, we'll break down waht's happening in each of these functions.\n",
    "\n",
    "カスタムデータセットに三つの関数を実装する: `__init__`, `__len__`, and `__getitem__`．\n",
    "以下の実装を見る；\n",
    "FashionMINIST画像は`img_dir`ディレクトリに保存されていて，ラベルは`annotation_file`csvファイルに保存されている．\n",
    "\n",
    "次のセクションでは，それぞれの関数で何が起きているかを分析する．"
   ]
  },
  {
   "cell_type": "code",
   "execution_count": 6,
   "id": "baafb759-242a-4e11-8c03-2ad404318706",
   "metadata": {},
   "outputs": [],
   "source": [
    "import os\n",
    "import pandas as pd\n",
    "from torchvision.io import read_image\n",
    "\n",
    "class CutomImageDataset(Dataset):\n",
    "    def __init__(self, annotations_file, img_dir, transform=None, target_transform=None):\n",
    "        self.img_labels = pd.read_csv(annotations_file)\n",
    "        self.img_dir = img_dir\n",
    "        self.transform = transform\n",
    "        self.target_transform = target_transform\n",
    "    \n",
    "    def __len__(self):\n",
    "        return len(self.img_lebels)\n",
    "    \n",
    "    def __getitem__(self, idx):\n",
    "        img_path = os.path.join(self.img_dir, self.img_labels.iloc[idx, 0])\n",
    "        image = read_image(img_path)\n",
    "        label = self.img_labels.iloc[idx, 1]\n",
    "        if self.transform:\n",
    "            image = self.transform(image)\n",
    "        if self.target_transfomr:\n",
    "            label = self.target_transform(label)\n",
    "        sample = {'image': image, 'label': label}\n",
    "        return sample"
   ]
  },
  {
   "cell_type": "markdown",
   "id": "481cef8f-2867-47e8-8990-e20eb5a733ed",
   "metadata": {},
   "source": [
    "### __init__\n",
    "The `__init__` function is run once when instantiating the Dataset object.\n",
    "We initialize the directory containing the images, the annotations file, and both transforms (covered in more detail in the next section).\n",
    "\n",
    "The labels.csv file looks like:\n",
    "\n",
    "`__init__`関数はデータセットオブジェクトがインスタンス化された時に一度だけ実行される．\n",
    "画像が保存されたディレクトリやアノテーションファイル，変換をを初期化する．\n",
    "csvファイルは以下のようになっている"
   ]
  },
  {
   "cell_type": "markdown",
   "id": "06181075-6716-4b35-8057-b0c68e58f313",
   "metadata": {},
   "source": [
    "```{python}\n",
    "tshirt1.jpg, 0\n",
    "tshirt2.jpg, 0\n",
    "......\n",
    "ankeboot999.jpg, 9\n",
    "```"
   ]
  },
  {
   "cell_type": "code",
   "execution_count": 7,
   "id": "1ab5b572-6cbf-4f50-ae5e-64259bf245ad",
   "metadata": {},
   "outputs": [],
   "source": [
    "def __init__(self, annotations_file, img_dir, transform=None, target_transform=None):\n",
    "    self.img_labels = pd.read_csv(annotations_file)\n",
    "    self.img_dir = img_dir\n",
    "    self.transform = transform\n",
    "    self.target_transform = target_transform"
   ]
  },
  {
   "cell_type": "markdown",
   "id": "1885a8c7-5f64-4a52-9a23-b2262bdf0cd0",
   "metadata": {},
   "source": [
    "### __len__\n",
    "The `__len__` function returns the number of samples in our dataset.\n",
    "\n",
    "`__len__`関数はデータセットのサンプルの数を返す"
   ]
  },
  {
   "cell_type": "code",
   "execution_count": 8,
   "id": "4501a95c-a36e-4c96-b1d1-c45f02e83ba7",
   "metadata": {},
   "outputs": [],
   "source": [
    "def __len__(self):\n",
    "    return len(self.img_labels)"
   ]
  },
  {
   "cell_type": "markdown",
   "id": "90b9381e-92b6-4bdb-8197-6bd9b3c5c58e",
   "metadata": {},
   "source": [
    "### __getitem__\n",
    "The `__getitem__` function loads and returns a sample from the dataset at the given index `idx`.\n",
    "Based on the index, it identifies the image's location on disk, converts that to a tensor using `read_image`, retrieves the corresponding label from the csv data in `self.img_labels`,\n",
    "calls the transform function on them (if applicable), and returns the tensor image and corresponding label in a Python dict.\n",
    "\n",
    "`__getitem__`関数は与えられた`idx`のデータセットのサンプルをロードし返す．\n",
    "インデックスに基づき，ディスク上の画像位置を特定し，`read_image`を用いてtensorへと変換し，`self.img_labels`の csvデータから一致するラベルを取得し，該当する場合，それらの利用関数を呼び出し，\n",
    "Pythonディクショナリーでtensor画像と一致するラベルを返す．"
   ]
  },
  {
   "cell_type": "code",
   "execution_count": 9,
   "id": "bbe77ceb-53ce-4bac-aa4d-99f9355eeb80",
   "metadata": {},
   "outputs": [],
   "source": [
    "def __getitem__(self, idx):\n",
    "    img_path = os.path.join(self.img_dir, self.img_labels.iloc[idx, 0])\n",
    "    image = read_image(img_path)\n",
    "    label = self.img_labels.iloc[idx, 1]\n",
    "    if self.transform:\n",
    "        image = self.transform(image)\n",
    "    if self.target_transfomr:\n",
    "        label = self.target_transform(label)\n",
    "    sample = {'image': image, 'label': label}\n",
    "    return sample"
   ]
  },
  {
   "cell_type": "markdown",
   "id": "532f0935-9bb6-4e66-8683-db6da74d2ad6",
   "metadata": {},
   "source": [
    "## Preparing your data for training with DataLoaders\n",
    "The `Dataset` retrieves our dataset's features and labels on samples at a time.\n",
    "While training a model, we typically want to pass sampless in 'minibatches', reshuffle the data at every epoch to reduce model overfitting, and use Python's `multiprocessing` to speed up data retrival.\n",
    "\n",
    "`DataLoader` is an iterable that abstracts this complecity for us in an easy API.\n",
    "\n",
    "`Dataset`はサンプルデータセットの同時に特徴量とラベルを取得する．\n",
    "モデルのトレーニング中は，一般的にミニバッチの中にサンプルを渡し，モデルの過剰適合を減らす為にエポックごとにシャッフルし，Pythonの`multiprocessing`を使ってデータの取得を高速化する．\n",
    "\n",
    "`DataLoader`は簡単なAPIでこの完全性を抽象化する反復可能なオブジェクトである"
   ]
  },
  {
   "cell_type": "code",
   "execution_count": 10,
   "id": "73e996a4-8217-4c61-9a74-ea0f8711d61b",
   "metadata": {},
   "outputs": [],
   "source": [
    "from torch.utils.data import DataLoader\n",
    "\n",
    "train_dataloader = DataLoader(training_data, batch_size=64, shuffle=True)\n",
    "test_dataloader = DataLoader(test_data, batch_size=64, shuffle=True)"
   ]
  },
  {
   "cell_type": "markdown",
   "id": "ac7edf49-4955-4653-8d8f-089e2e1aaa66",
   "metadata": {},
   "source": [
    "## Iterate through the DataLoader\n",
    "We have loaded that dataset into the `Dataloader` and can iterate through the dataset as needed.\n",
    "Each iteration below returns a batch of `train_features` and `train_labels` (containing `batch_size=64` features and labels respectively).\n",
    "Because we specified `shuffle=True`, after we iterate over all batches the data is shuffled (for finer-grainde control over the data loading order, takle a look at [Samplers](https://pytorch.org/docs/stable/data.html#data-loading-order-and-sampler))\n",
    "\n",
    "`Dataloader`にデータセットをロードし，必要に応じてデータセットを反復処理できる．\n",
    "以下の各反復は，`train_features`と`traon_labels`のバッチを返す(それぞれ，64の特徴量とラベルを含む)．\n",
    "`shuffle=True`を指定したため，全てのバッチを反復処理した後に，データがシャッフルされる(データの読み込み順序をより細かく-荒く制御する為にはURLを見る)．"
   ]
  },
  {
   "cell_type": "code",
   "execution_count": 14,
   "id": "e943e89d-fee8-43e8-ad97-f149139d457f",
   "metadata": {},
   "outputs": [
    {
     "name": "stdout",
     "output_type": "stream",
     "text": [
      "Feature batch shape: torch.Size([64, 1, 28, 28])\n",
      "Labels batch shape: torch.Size([64])\n"
     ]
    },
    {
     "data": {
      "image/png": "[encoded data removed]",
      "text/plain": [
       "<Figure size 432x288 with 1 Axes>"
      ]
     },
     "metadata": {
      "needs_background": "light"
     },
     "output_type": "display_data"
    },
    {
     "name": "stdout",
     "output_type": "stream",
     "text": [
      "Lable: 3\n"
     ]
    }
   ],
   "source": [
    "# Display image and label.\n",
    "train_features, train_labels = next(iter(train_dataloader))\n",
    "print(f'Feature batch shape: {train_features.size()}')\n",
    "print(f'Labels batch shape: {train_labels.size()}')\n",
    "img = train_features[0].squeeze()\n",
    "label = train_labels[0]\n",
    "plt.imshow(img, cmap='gray')\n",
    "plt.show()\n",
    "print(f'Lable: {label}')"
   ]
  },
  {
   "cell_type": "code",
   "execution_count": null,
   "id": "82fb88eb-4b92-4124-accd-9f52f546513e",
   "metadata": {},
   "outputs": [],
   "source": []
  }
 ],
 "metadata": {
  "kernelspec": {
   "display_name": "Python 3",
   "language": "python",
   "name": "python3"
  },
  "language_info": {
   "codemirror_mode": {
    "name": "ipython",
    "version": 3
   },
   "file_extension": ".py",
   "mimetype": "text/x-python",
   "name": "python",
   "nbconvert_exporter": "python",
   "pygments_lexer": "ipython3",
   "version": "3.8.3"
  }
 },
 "nbformat": 4,
 "nbformat_minor": 5
}
