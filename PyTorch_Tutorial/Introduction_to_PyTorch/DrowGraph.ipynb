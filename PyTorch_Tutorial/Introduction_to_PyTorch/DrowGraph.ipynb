{
 "cells": [
  {
   "cell_type": "markdown",
   "id": "6ca491b9-c34b-4b6a-a3ca-dbce42d90b9c",
   "metadata": {},
   "source": [
    "# Computational Graph\n",
    "This file is for drowing graph using graphviz-python.\n"
   ]
  },
  {
   "cell_type": "code",
   "execution_count": 1,
   "id": "1827a25e-0fcb-4fb5-a9c6-3214346558e8",
   "metadata": {},
   "outputs": [],
   "source": [
    "from graphviz import Graph, Digraph"
   ]
  },
  {
   "cell_type": "markdown",
   "id": "b571f0f2-74cc-4866-a4eb-eb1808f19927",
   "metadata": {},
   "source": [
    "# PyTorch Tutorial\n",
    "## Automatic Differentiation with torch.autograd\n",
    "https://pytorch.org/tutorials/beginner/basics/autogradqs_tutorial.html"
   ]
  },
  {
   "cell_type": "code",
   "execution_count": 4,
   "id": "9035ab3b-4393-4f34-a40a-a89229988365",
   "metadata": {},
   "outputs": [
    {
     "data": {
      "text/plain": [
       "'graph/autograd_computational_graph.png'"
      ]
     },
     "execution_count": 4,
     "metadata": {},
     "output_type": "execute_result"
    }
   ],
   "source": [
    "g = Digraph(format='png')\n",
    "g.attr('graph', rankdir='LR')\n",
    "g.attr('node', shape='circle')\n",
    "g.attr(newrank='true')\n",
    "\n",
    "g.node('X')\n",
    "g.node('+')\n",
    "g.node('*')\n",
    "g.node('z')\n",
    "g.node('CE')\n",
    "g.node('y')\n",
    "g.node('loss')\n",
    "g.node('y')\n",
    "\n",
    "# add edge\n",
    "g.edge('X', '*')\n",
    "g.edge('*', '+')\n",
    "g.edge('+', 'z')\n",
    "g.edge('z', 'CE')\n",
    "g.edge('CE', 'loss')\n",
    "\n",
    "with g.subgraph(name='cluster0') as c:\n",
    "    c.node('b')\n",
    "    c.node('w')\n",
    "    c.attr(label='parameters', labelloc='t')\n",
    "\n",
    "g.body.append('{rank=same; \"w\"; \"*\"}')\n",
    "g.body.append('{rank=same; \"b\", \"+\"}')\n",
    "g.body.append('{rank=same; \"y\"; \"CE\"}')\n",
    "g.edge('w', '*')\n",
    "g.edge('b', '+')\n",
    "g.edge('y', 'CE')\n",
    "\n",
    "\n",
    "\n",
    "g.subgraph(c)\n",
    "g.render('graph/autograd_computational_graph')"
   ]
  },
  {
   "cell_type": "code",
   "execution_count": null,
   "id": "2c445838-9b01-4b46-bc74-b94c0d975ec9",
   "metadata": {},
   "outputs": [],
   "source": []
  }
 ],
 "metadata": {
  "kernelspec": {
   "display_name": "Python 3",
   "language": "python",
   "name": "python3"
  },
  "language_info": {
   "codemirror_mode": {
    "name": "ipython",
    "version": 3
   },
   "file_extension": ".py",
   "mimetype": "text/x-python",
   "name": "python",
   "nbconvert_exporter": "python",
   "pygments_lexer": "ipython3",
   "version": "3.8.3"
  }
 },
 "nbformat": 4,
 "nbformat_minor": 5
}
