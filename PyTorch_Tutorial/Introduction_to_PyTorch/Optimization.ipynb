{
 "cells": [
  {
   "cell_type": "markdown",
   "id": "f1787560-f1c0-4e3b-b6c4-f993c715a028",
   "metadata": {},
   "source": [
    "# Optimizing model parameters\n",
    "Now that we have a model and data it's time to train, validate and test our model by optimizing its parameters on our data.\n",
    "Training a model is an iterative process; in each iteration (called an _epoch_) the model makes a guess about the output, calculates the error in its guess (_loss_), collects the derivatives of the error with respect to its parameters (as we sae in the [previous section](https://pytorch.org/tutorials/beginner/basics/autograd_tutorial.html)), and **optimizes** these parameters using gradient descent.\n",
    "For a more detailed walkthrough of this process, check out this video on [backpropagation from 3Blue1Brown](https://www.youtube.com/watch?v=tIeHLnjs5U8).\n"
   ]
  },
  {
   "cell_type": "markdown",
   "id": "f3e5ee43-5b6e-467f-8b27-f1e2a939ee88",
   "metadata": {},
   "source": [
    "モデルとデータがあるので，データに対してパラメータを最適化して，モデルを訓練，検証，テストをする．\n",
    "モデルを訓練することは反復プロセスである．各反復をエポックといい，エポックではモデルは出力について推測し，推測の誤差(損失; loss)を計算し，パラメータに関する誤差の微分を収集し，勾配降下法を用いてパラメータを最適化する．\n",
    "この過程の詳細なウォークスルーはビデオを参照する．"
   ]
  },
  {
   "cell_type": "markdown",
   "id": "0eee64f7-7a8d-442b-a76e-940b678691b8",
   "metadata": {},
   "source": [
    "## Prerequisite Code\n",
    "We load the code from the previous sections on [Datasets & DataLoaders](https://pytorch.org/tutorials/beginner/basics/data_tutorial.html) and [Build Model](https://pytorch.org/tutorials/beginner/basics/buildmodel_tutorial.html).\n"
   ]
  },
  {
   "cell_type": "markdown",
   "id": "1779927f-84cd-4385-b243-8895b0a3646a",
   "metadata": {},
   "source": [
    "以前のセクション(Datasets & DataLoadersとBuild Model)のコードを使う．"
   ]
  },
  {
   "cell_type": "code",
   "execution_count": 2,
   "id": "28ed1440-84ee-4525-b74e-4feb5fcd4607",
   "metadata": {},
   "outputs": [
    {
     "name": "stdout",
     "output_type": "stream",
     "text": [
      "torch version: 1.8.1\n"
     ]
    }
   ],
   "source": [
    "import torch\n",
    "from torch import nn\n",
    "from torch.utils.data import DataLoader\n",
    "from torchvision import datasets\n",
    "from torchvision.transforms import ToTensor, Lambda\n",
    "print(f'torch version: {torch.__version__}')"
   ]
  },
  {
   "cell_type": "code",
   "execution_count": 3,
   "id": "4b3b2c23-08e8-414e-a31d-6b301ca3e1a2",
   "metadata": {},
   "outputs": [],
   "source": [
    "training_data = datasets.FashionMNIST(\n",
    "    root='data',\n",
    "    train=True,\n",
    "    download=True,\n",
    "    transform=ToTensor()\n",
    ")\n",
    "\n",
    "test_data = datasets.FashionMNIST(\n",
    "    root='data',\n",
    "    train=False,\n",
    "    download=True,\n",
    "    transform=ToTensor()\n",
    ")"
   ]
  },
  {
   "cell_type": "code",
   "execution_count": 4,
   "id": "01cb1f20-75a8-451d-8c9b-a3192950a36d",
   "metadata": {},
   "outputs": [],
   "source": [
    "train_dataloader = DataLoader(training_data, batch_size=64)\n",
    "test_dataloader = DataLoader(test_data, batch_size=64)"
   ]
  },
  {
   "cell_type": "code",
   "execution_count": 5,
   "id": "5aac2626-b161-4155-9f95-0aa65909ff5c",
   "metadata": {},
   "outputs": [],
   "source": [
    "class NeuralNetwork(nn.Module):\n",
    "    def __init__(self):\n",
    "        super(NeuralNetwork, self).__init__()\n",
    "        self.flatten = nn.Flatten()\n",
    "        self.linear_relu_stack = nn.Sequential(\n",
    "            nn.Linear(28*28, 512),\n",
    "            nn.ReLU(),\n",
    "            nn.Linear(512, 512),\n",
    "            nn.ReLU(),\n",
    "            nn.Linear(512, 10),\n",
    "            nn.ReLU()\n",
    "        )\n",
    "    \n",
    "    def forward(self, x):\n",
    "        x = self.flatten(x)\n",
    "        logits = self.linear_relu_stack(x)\n",
    "        return logits"
   ]
  },
  {
   "cell_type": "code",
   "execution_count": 7,
   "id": "5c996453-df9b-41bc-9e6c-8771b4a08570",
   "metadata": {},
   "outputs": [],
   "source": [
    "model = NeuralNetwork()"
   ]
  },
  {
   "cell_type": "markdown",
   "id": "d13d26d1-329e-4427-adf9-2ee60efa636a",
   "metadata": {},
   "source": [
    "## Hyperparameters\n",
    "Hyperparameters are adjutable parameters that let you control the model optimization process.\n",
    "Different hyperparameter values can impact model training and convergence rates ([read more](https://pytorch.org/tutorials/beginner/hyperparameter_tuning_tutorial.html) about hyperparameter tuning).\n",
    "\n",
    "We define the following hyperparameters for training:\n",
    "\n",
    "- Number of Epochs - the number times to iterate over the dataset\n",
    "- Batch Size - the number of data samples propagated through the network before the parameters are updated\n",
    "- Learning Rate - how much to update models parameters at each batch/epoch. Smaller values yield slow learning speed, while large values may result in unpredictable behavior during training\n"
   ]
  },
  {
   "cell_type": "markdown",
   "id": "5eacce92-fd2b-4361-af60-d2383de609b3",
   "metadata": {},
   "source": [
    "ハイパーパラメータはモデルの最適化過程を制御することができる調整可能なパラメータである．\n",
    "異なるハイパーパラメータの値はモデルの訓練と収束率に影響を与える．(詳細は上記のURLを見る)\n",
    "\n",
    "訓練用に次のハイパーパラメータを定義する．\n",
    "\n",
    "- エポック数：データセットを反復処理する回数\n",
    "- バッチサイズ：パラメータを更新する前にサンプルがネットワークを伝播する回数\n",
    "- 学習率：一回のバッチ/エポックでモデルのパラメータを更新する諒．小さいほど学習速度が遅くなり，大きいと訓練中に予期せぬ動作が発生することがある．"
   ]
  },
  {
   "cell_type": "code",
   "execution_count": 8,
   "id": "0d97f1b1-9f95-4b69-ad36-4e4e66aef5f7",
   "metadata": {},
   "outputs": [],
   "source": [
    "learning_rate = 1e-3\n",
    "batch_size = 64\n",
    "epochs = 5"
   ]
  },
  {
   "cell_type": "markdown",
   "id": "52514c59-d372-4569-bfc4-42e9e93ac79c",
   "metadata": {},
   "source": [
    "## Optimization Loop\n",
    "Once we set our hyperparameters, we can then train and optimize our model with an optimization loop.\n",
    "Each iteration of the optimization loop is called an **epoch**.\n",
    "\n",
    "Each epoch consists of two main parts:\n",
    "\n",
    "- **The Train Loop** - iterate over the training dataset and try to converge to optimal parameters\n",
    "- **The Validation/Test Loop** - iterate over the test dataset to check if model performance is improving\n",
    "\n",
    "Let's briefly familiarize ourselves with some of the concepts used in the training loop.\n",
    "Jump ahead to see the Full Implementation of the optimization loop(\\* under Full Implementation).\n"
   ]
  },
  {
   "cell_type": "markdown",
   "id": "03b06aae-26bf-46f1-9a1f-7fb888cf0830",
   "metadata": {},
   "source": [
    "ハイパーパラメータを設定したら，最適化ループを用いてモデルを訓練し最適化する．\n",
    "最適ループのそれぞれの繰り返しを**エポック**という．\n",
    "\n",
    "それぞれのエポックは主に二つのパートからなり，\n",
    "\n",
    "- 訓練ループ；訓練セットを反復処理し，最適なパラメータに収束しようとする\n",
    "- 検証/テストループ；テストセットを反復処理し，モデルの性能が向上したかを調べる\n",
    "\n",
    "訓練ループ中で用いられるいくつかの概念について簡単に理解しましょう．\n",
    "先に進んで最適化ループの完全な実装を見てください．"
   ]
  },
  {
   "cell_type": "markdown",
   "id": "269b11e7-08c8-45be-aa3d-7a550c2dd209",
   "metadata": {},
   "source": [
    "## Loss Function\n",
    "When presented with some training data, our untrained network is likely not to give the correct answer.\n",
    "**Loss function** measures the degree of dissimilarity of obtained result to the target value, and it is the loss function that we want to minimize during training.\n",
    "To calculate the loss we make a prediction using the inputs of our given data sample and compare it against the true data label value.\n",
    "\n",
    "Common loss functions include [nn.MSELoss](https://pytorch.org/docs/stable/generated/torch.nn.MSELoss.html#torch.nn.MSELoss) (Mean Square Error) for regression tasks, and [nn.NLLLoss](https://pytorch.org/docs/stable/generated/torch.nn.NLLLoss.html#torch.nn.NLLLoss) (Negative Log Likelihood) for classification.\n",
    "[nn.CrossEntropyLoss](https://pytorch.org/docs/stable/generated/torch.nn.CrossEntropyLoss.html#torch.nn.CrossEntropyLoss) combines `nn.LogSoftmax` and `nn.NLLLoss`.\n",
    "\n",
    "We pass our model's output logits to `nn.CrossEntropyLoss`, which will normalize the logits and compute the prediction error.\n"
   ]
  },
  {
   "cell_type": "markdown",
   "id": "4bcece4e-cf7b-4dbb-a8fa-4705b97a1afe",
   "metadata": {},
   "source": [
    "訓練データがある時に，訓練されていないネットワークでは正しい答えが得られない可能性がある．\n",
    "**損失関数**は得られた結果と目標値の差の程度を表す指標であり，訓練の過程で最小化したいのが損失関数である．\n",
    "損失を計算するために，与えられたデータサンプルの入力値を用いて予測値を計算し，それと真の値を比較する．\n",
    "\n",
    "一般的な損失関数は回帰問題用のnn.MSELossや分類問題用のnn.NLLLoss，`nn.LogSoftmax`と`nn.NLLLoss`を合わせた`nn.CrosEntropyLoss`に含まれている．\n",
    "\n",
    "モデルの出力ロジットを`nn.CrossEntropyLoss`に渡し，ロジットを正規化して予測誤差を計算する．"
   ]
  },
  {
   "cell_type": "code",
   "execution_count": 9,
   "id": "2d81c30a-d7f2-43bb-a656-af03beb567f1",
   "metadata": {},
   "outputs": [],
   "source": [
    "# Initialize the loss function\n",
    "loss_fn = nn.CrossEntropyLoss()"
   ]
  },
  {
   "cell_type": "markdown",
   "id": "5496de8f-8847-437d-80f3-ace02b643255",
   "metadata": {},
   "source": [
    "## Optimizer\n",
    "Optimization is the process of adjusting model parameters to reduce model error in each training step.\n",
    "**Optimization algorithm** define how this process is performed (in this example we use Stochastic Gradient Descent).\n",
    "All optimization logic is encapsulated in the `optimizer` object.\n",
    "Here, we use the SGD optimizer; additionally, there are many [different optimizers](https://pytorch.org/docs/stable/optim.html) available in PyTorch such as ADAM and RMSProp, that work better for different kinds of models and data.\n",
    "\n",
    "We initialize the oprimizer by registering the model's parameters that need to be trained, and passing in the learning rate hyperparameter."
   ]
  },
  {
   "cell_type": "markdown",
   "id": "29cc3961-cdc3-4346-b0cf-61bca27b3ef5",
   "metadata": {},
   "source": [
    "最適化はモデルのパラメータを調整する過程であり，毎回の訓練過程を通してモデル誤差を減らす．\n",
    "最適化アルゴリズムは最適化過程の実行方法を定義する(この例では，確率的勾配降下法; SGDを用いる)．\n",
    "全ての最適化ロジックは`optimizer`オブジェクト内にカプセル化されている．\n",
    "ここでは，SGD最適化を用いる．PyTrochにはADAMやRMSPropといった様々なオプティマイザが使用でき，様々なモデルやデータに適している．\n",
    "\n",
    "訓練するモデルパラメータをオプティマイザに登録し，ハイパーパラメータである学習率を渡すことで，オプティマイザを初期化する．"
   ]
  },
  {
   "cell_type": "code",
   "execution_count": 11,
   "id": "deb1925e-b0e4-4853-805c-f252a64e5ef1",
   "metadata": {},
   "outputs": [],
   "source": [
    "optimizer = torch.optim.SGD(model.parameters(), lr=learning_rate)"
   ]
  },
  {
   "cell_type": "markdown",
   "id": "4407cf5e-4f07-4170-9291-5dd69a1c1036",
   "metadata": {},
   "source": [
    "Inside the training loop, optimization happens in three steps:\n",
    "\n",
    "- Call `optimizer.zero_grad()` to reset the grafients of model parameters. Gradients by default add up; to prevent double-dounting, we explicity zero them at each iteration.\n",
    "- Backpropagate the prediction loss with a call to `loss.backward()`. PyTorch deposits the gradients of the loss w.r.t each paramter.\n",
    "- Once we have our gradients, we call `optimizer.step()` to adjust the parameters by the gradients collected in the backward pass.\n"
   ]
  },
  {
   "cell_type": "markdown",
   "id": "fdd6e1ef-95cc-40af-898a-a581662aaf3d",
   "metadata": {},
   "source": [
    "訓練ループ内では，最適化は3つのステップで行われる．\n",
    "\n",
    "- モデルパラメータの勾配をリセットするために，`optimizer.zero_grad()`を呼び出す．デフォルトでは勾配は加算されていくので，二重カウントを防ぐため，各反復毎に明示的にゼロにする．\n",
    "- `loss.backward()`を呼び出して，予測損失を逆伝播する．PyTorchは各パラメータに誤差の勾配を割り当てる．\n",
    "- 勾配を取得したら，`optimizer.step()`を呼び出し，逆伝播で集めた勾配によってパラメータを調整する．"
   ]
  },
  {
   "cell_type": "markdown",
   "id": "62846c56-7424-4635-8ee3-5378f6e113b3",
   "metadata": {},
   "source": [
    "## Full Implementation\n",
    "We define `train_loop` that loops over our optimization code, and `test_loop` that evaluates the model's performance against our test data.\n"
   ]
  },
  {
   "cell_type": "markdown",
   "id": "2cbedbb6-e91a-42db-8dca-b76279145583",
   "metadata": {},
   "source": [
    "最適化コードをループする`train_loop`と，テストデータに対するモデルの性能を評価する`test_loop`を定義する"
   ]
  },
  {
   "cell_type": "code",
   "execution_count": 14,
   "id": "63a14d90-38bd-4dce-9f26-818e3fbb1b97",
   "metadata": {},
   "outputs": [],
   "source": [
    "def train_loop(dataloader, model, loss_fn, optimizer):\n",
    "    size = len(dataloader.dataset)\n",
    "    for batch, (X, y) in enumerate(dataloader):\n",
    "        # Compute prediction and loss\n",
    "        pred = model(X)\n",
    "        loss = loss_fn(pred, y)\n",
    "        \n",
    "        # Backpropagation\n",
    "        optimizer.zero_grad()\n",
    "        loss.backward()\n",
    "        optimizer.step()\n",
    "        \n",
    "        if batch % 100 == 0:\n",
    "            loss, current = loss.item(), batch*len(X)\n",
    "            print(f'loss: {loss:>7f} [{current:>5d}/{size:>5d}]')\n",
    "\n",
    "def test_loop(dataloader, model, loss_fn):\n",
    "    size = len(dataloader.dataset)\n",
    "    test_loss, correct = 0, 0\n",
    "    \n",
    "    with torch.no_grad():\n",
    "        for X, y in dataloader:\n",
    "            pred = model(X)\n",
    "            test_loss += loss_fn(pred, y).item()\n",
    "            correct += (pred.argmax(1) == y).type(torch.float).sum().item()\n",
    "    \n",
    "    test_loss /= size\n",
    "    correct /= size\n",
    "    print(f'Test Error: \\n Accuracy: {(100*correct):>0.1f}%, Ave loss: {test_loss:8f} \\n')"
   ]
  },
  {
   "cell_type": "markdown",
   "id": "82ee4a0f-1659-4200-9032-4b2219f08d2c",
   "metadata": {},
   "source": [
    "We initialize the loss function and optimizer, and pass it to `train_loop` and `test_loop`.\n",
    "Feel free to increase the number of epochs to track the model's improving performance.\n"
   ]
  },
  {
   "cell_type": "markdown",
   "id": "3d18c2de-1f03-4381-968b-cf27c191562c",
   "metadata": {},
   "source": [
    "損失関数とオプティマイザを初期化し，`train_loop`と`test_loop`に渡す．\n",
    "モデルの性能向上を追跡するためにエポックを自由に増やしてよい．"
   ]
  },
  {
   "cell_type": "code",
   "execution_count": 15,
   "id": "a82621d2-712a-4007-84a8-3f95d0619b22",
   "metadata": {},
   "outputs": [
    {
     "name": "stdout",
     "output_type": "stream",
     "text": [
      "Epoch 1\n",
      "---------------------------\n",
      "loss: 2.227785 [    0/60000]\n",
      "loss: 2.229826 [ 6400/60000]\n",
      "loss: 2.211591 [12800/60000]\n",
      "loss: 2.219120 [19200/60000]\n",
      "loss: 2.220472 [25600/60000]\n",
      "loss: 2.161410 [32000/60000]\n",
      "loss: 2.183613 [38400/60000]\n",
      "loss: 2.155972 [44800/60000]\n",
      "loss: 2.125925 [51200/60000]\n",
      "loss: 2.121494 [57600/60000]\n",
      "Test Error: \n",
      " Accuracy: 46.5%, Ave loss: 0.033516 \n",
      "\n",
      "Epoch 2\n",
      "---------------------------\n",
      "loss: 2.132346 [    0/60000]\n",
      "loss: 2.137581 [ 6400/60000]\n",
      "loss: 2.106991 [12800/60000]\n",
      "loss: 2.126703 [19200/60000]\n",
      "loss: 2.140616 [25600/60000]\n",
      "loss: 2.036841 [32000/60000]\n",
      "loss: 2.070652 [38400/60000]\n",
      "loss: 2.023538 [44800/60000]\n",
      "loss: 1.980736 [51200/60000]\n",
      "loss: 1.969386 [57600/60000]\n",
      "Test Error: \n",
      " Accuracy: 47.0%, Ave loss: 0.031295 \n",
      "\n",
      "Epoch 3\n",
      "---------------------------\n",
      "loss: 1.986887 [    0/60000]\n",
      "loss: 1.984213 [ 6400/60000]\n",
      "loss: 1.934246 [12800/60000]\n",
      "loss: 1.984288 [19200/60000]\n",
      "loss: 1.980724 [25600/60000]\n",
      "loss: 1.816857 [32000/60000]\n",
      "loss: 1.883922 [38400/60000]\n",
      "loss: 1.799522 [44800/60000]\n",
      "loss: 1.810480 [51200/60000]\n",
      "loss: 1.760545 [57600/60000]\n",
      "Test Error: \n",
      " Accuracy: 52.7%, Ave loss: 0.028394 \n",
      "\n",
      "Done!\n"
     ]
    }
   ],
   "source": [
    "loss_fn = nn.CrossEntropyLoss()\n",
    "optimizer = torch.optim.SGD(model.parameters(), lr=learning_rate)\n",
    "\n",
    "epochs = 3\n",
    "for t in range(epochs):\n",
    "    print(f'Epoch {t+1}\\n---------------------------')\n",
    "    train_loop(train_dataloader, model, loss_fn, optimizer)\n",
    "    test_loop(test_dataloader, model, loss_fn)\n",
    "\n",
    "print('Done!')"
   ]
  },
  {
   "cell_type": "markdown",
   "id": "6ed9ac10-23ac-4186-96db-62a7031d235f",
   "metadata": {},
   "source": [
    "## Further Reaging\n",
    "\n",
    "- [Loss Functions](https://pytorch.org/docs/stable/nn.html#loss-functions)\n",
    "- [torch.optim](https://pytorch.org/docs/stable/optim.html)\n",
    "- [Warmstart Training a Model](https://pytorch.org/tutorials/recipes/recipes/warmstarting_model_using_parameters_from_a_different_model.html)"
   ]
  },
  {
   "cell_type": "code",
   "execution_count": null,
   "id": "05843f5d-80d4-4a3f-a5e4-ef49530796d2",
   "metadata": {},
   "outputs": [],
   "source": []
  }
 ],
 "metadata": {
  "kernelspec": {
   "display_name": "Python 3",
   "language": "python",
   "name": "python3"
  },
  "language_info": {
   "codemirror_mode": {
    "name": "ipython",
    "version": 3
   },
   "file_extension": ".py",
   "mimetype": "text/x-python",
   "name": "python",
   "nbconvert_exporter": "python",
   "pygments_lexer": "ipython3",
   "version": "3.8.3"
  }
 },
 "nbformat": 4,
 "nbformat_minor": 5
}
