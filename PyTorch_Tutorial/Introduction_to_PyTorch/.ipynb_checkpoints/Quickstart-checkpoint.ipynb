{
 "cells": [
  {
   "cell_type": "markdown",
   "metadata": {},
   "source": [
    "# PyTorch Tutorials\n",
    "## Quickstart\n",
    "https://pytorch.org/tutorials/beginner/basics/quickstart_tutorial.html\n",
    "\n",
    "This section runs through API for common tasks in machine learning.\n",
    "Refer to the links in each section to dive deeper.\n",
    "\n",
    "このセクションでは，機械学習の一般的なタスクをAPIを通して簡単に実行する．\n",
    "詳細は各リンクを参考にする．"
   ]
  },
  {
   "cell_type": "markdown",
   "metadata": {},
   "source": [
    "## Working with data\n",
    "\n",
    "PyTorch has two primitives to work with data: `torch.utils.data.DataLoader` and `torch.utils.data.Dataset`.\n",
    "`Dataset` stores the samples and their corresponding labels, and `DataLoader` wraps an itetable around the `Dataset`.\n",
    "\n",
    "PyTorchは二つのプリミティブにデータを扱う方法がある．\n",
    "\n",
    "- `torch.utils.data.DataLoader`\n",
    "    - データセットを反復可能なラップする．\n",
    "- `torch.utils.data.Dataset`\n",
    "    - サンプルとそれに対応するラベルを格納する"
   ]
  },
  {
   "cell_type": "code",
   "execution_count": null,
   "metadata": {},
   "outputs": [],
   "source": [
    "import torch\n",
    "from torch import nn\n",
    "from torch.utils.data import DataLoader\n",
    "from torchvision import datasets\n",
    "from torchvision.transforms import ToTensor, Lambda, Compose\n",
    "import matplotlib.pyplot as plt"
   ]
  },
  {
   "cell_type": "markdown",
   "metadata": {},
   "source": [
    "PyTorch offers domain-specific libraries such as [TorchText](https://pytorch.org/text/stable/index.html), \n",
    "[TorchVision](https://pytorch.org/vision/stable/index.html), \n",
    "[TorchAudio](https://pytorch.org/audio/stable/index.html), all of which include datasets.\n",
    "For this tutorial, we will be using TorchVision dataset.\n",
    "\n",
    "PyTorchはTorchText, TorchVision, TorchAudioといったドメイン特有のライブラリを提供している．\n",
    "このチュートリアルでは，TorchVisionを用いる．"
   ]
  },
  {
   "cell_type": "markdown",
   "metadata": {},
   "source": [
    "The `torchvision.datasets` module contains `Dataset` objects for many real-world vision data like CIFAR, COCO([full list here](https://pytorch.org/vision/stable/datasets.html)).\n",
    "In this tutorial, we use the FashionMNIST dataset.\n",
    "Every TorchVision `Dataset` includes two arguments: `transform` and `target_transform` to modify the samples and labels respectively.\n",
    "\n",
    "`torchvision.datasets`モジュールには，CIFARやCOCOといった実世界の画像データを持つ`Dataset`オブジェクトが含まれている．\n",
    "本チュートリアルでは，FashionMNISTデータセットを用いる．\n",
    "TorchVisionの全ての`Dataset`には，二つの引数`transform`と`target_trainsform`があり，サンプルとラベルを調整することができる．"
   ]
  },
  {
   "cell_type": "code",
   "execution_count": 2,
   "metadata": {},
   "outputs": [
    {
     "name": "stdout",
     "output_type": "stream",
     "text": [
      "Downloading http://fashion-mnist.s3-website.eu-central-1.amazonaws.com/train-images-idx3-ubyte.gz\n",
      "Downloading http://fashion-mnist.s3-website.eu-central-1.amazonaws.com/train-images-idx3-ubyte.gz to data/FashionMNIST/raw/train-images-idx3-ubyte.gz\n"
     ]
    },
    {
     "data": {
      "application/vnd.jupyter.widget-view+json": {
       "model_id": "7a0d667c04394efd888c7870b69fd532",
       "version_major": 2,
       "version_minor": 0
      },
      "text/plain": [
       "  0%|          | 0/26421880 [00:00<?, ?it/s]"
      ]
     },
     "metadata": {},
     "output_type": "display_data"
    },
    {
     "name": "stdout",
     "output_type": "stream",
     "text": [
      "Extracting data/FashionMNIST/raw/train-images-idx3-ubyte.gz to data/FashionMNIST/raw\n",
      "\n",
      "Downloading http://fashion-mnist.s3-website.eu-central-1.amazonaws.com/train-labels-idx1-ubyte.gz\n",
      "Downloading http://fashion-mnist.s3-website.eu-central-1.amazonaws.com/train-labels-idx1-ubyte.gz to data/FashionMNIST/raw/train-labels-idx1-ubyte.gz\n"
     ]
    },
    {
     "data": {
      "application/vnd.jupyter.widget-view+json": {
       "model_id": "7ffb2499359c42519a6c68ff82bd1ade",
       "version_major": 2,
       "version_minor": 0
      },
      "text/plain": [
       "  0%|          | 0/29515 [00:00<?, ?it/s]"
      ]
     },
     "metadata": {},
     "output_type": "display_data"
    },
    {
     "name": "stdout",
     "output_type": "stream",
     "text": [
      "Extracting data/FashionMNIST/raw/train-labels-idx1-ubyte.gz to data/FashionMNIST/raw\n",
      "\n",
      "Downloading http://fashion-mnist.s3-website.eu-central-1.amazonaws.com/t10k-images-idx3-ubyte.gz\n",
      "Downloading http://fashion-mnist.s3-website.eu-central-1.amazonaws.com/t10k-images-idx3-ubyte.gz to data/FashionMNIST/raw/t10k-images-idx3-ubyte.gz\n"
     ]
    },
    {
     "data": {
      "application/vnd.jupyter.widget-view+json": {
       "model_id": "54646a0def084a34ba948c85dff8890e",
       "version_major": 2,
       "version_minor": 0
      },
      "text/plain": [
       "  0%|          | 0/4422102 [00:00<?, ?it/s]"
      ]
     },
     "metadata": {},
     "output_type": "display_data"
    },
    {
     "name": "stdout",
     "output_type": "stream",
     "text": [
      "Extracting data/FashionMNIST/raw/t10k-images-idx3-ubyte.gz to data/FashionMNIST/raw\n",
      "\n",
      "Downloading http://fashion-mnist.s3-website.eu-central-1.amazonaws.com/t10k-labels-idx1-ubyte.gz\n",
      "Downloading http://fashion-mnist.s3-website.eu-central-1.amazonaws.com/t10k-labels-idx1-ubyte.gz to data/FashionMNIST/raw/t10k-labels-idx1-ubyte.gz\n"
     ]
    },
    {
     "data": {
      "application/vnd.jupyter.widget-view+json": {
       "model_id": "cae61c9cf1e449709d6e404627de11a9",
       "version_major": 2,
       "version_minor": 0
      },
      "text/plain": [
       "  0%|          | 0/5148 [00:00<?, ?it/s]"
      ]
     },
     "metadata": {},
     "output_type": "display_data"
    },
    {
     "name": "stdout",
     "output_type": "stream",
     "text": [
      "Extracting data/FashionMNIST/raw/t10k-labels-idx1-ubyte.gz to data/FashionMNIST/raw\n",
      "\n",
      "Processing...\n",
      "Done!\n"
     ]
    },
    {
     "name": "stderr",
     "output_type": "stream",
     "text": [
      "/Users/shibanotoshiki/.pyenv/versions/3.8.3/lib/python3.8/site-packages/torchvision/datasets/mnist.py:502: UserWarning: The given NumPy array is not writeable, and PyTorch does not support non-writeable tensors. This means you can write to the underlying (supposedly non-writeable) NumPy array using the tensor. You may want to copy the array to protect its data or make it writeable before converting it to a tensor. This type of warning will be suppressed for the rest of this program. (Triggered internally at  ../torch/csrc/utils/tensor_numpy.cpp:143.)\n",
      "  return torch.from_numpy(parsed.astype(m[2], copy=False)).view(*s)\n"
     ]
    }
   ],
   "source": [
    "# Download training data from open datasets.\n",
    "training_data = datasets.FashionMNIST(\n",
    "    root=\"data\",\n",
    "    train=True,\n",
    "    download=True,\n",
    "    transform=ToTensor(),\n",
    ")\n",
    "\n",
    "# Download test data from open datasets.\n",
    "test_data = datasets.FashionMNIST(\n",
    "    root=\"data\",\n",
    "    train=False,\n",
    "    download=True,\n",
    "    transform=ToTensor(),\n",
    ")"
   ]
  },
  {
   "cell_type": "markdown",
   "metadata": {},
   "source": [
    "We pass the `Dataset` as an argument to `DataLoader`.\n",
    "This wraps an iterable over our dataset, and supports automatic batching, sampling, shuffling and multiprocess data loading.\n",
    "Here we define a batch size of 64, i.e. each element in the dataloader iterable will return a batch of 64 features and labels.\n",
    "\n",
    "`DataLoader`に`Dataset`を引数として渡す．\n",
    "これにより，データセットに反復可能性がラップされ，自動的なバッチ処理，サンプリング，シャッフル，マルチプロセスデータ読み込みがサポートされる．\n",
    "ここでは，バッチサイズを64と定義する．つまり，データローダーイテラブルのそれぞれの要素は64個の特徴量(入力データ？)とラベルをを返す．"
   ]
  },
  {
   "cell_type": "code",
   "execution_count": 3,
   "metadata": {},
   "outputs": [
    {
     "name": "stdout",
     "output_type": "stream",
     "text": [
      "Shape of X[N, C, H, W] torch.Size([64, 1, 28, 28])\n",
      "Shape of y:  torch.Size([64]) torch.int64\n"
     ]
    }
   ],
   "source": [
    "batch_size = 64\n",
    "\n",
    "# Create data loaders\n",
    "train_dataloader = DataLoader(training_data, batch_size=batch_size)\n",
    "test_dataloader = DataLoader(test_data, batch_size=batch_size)\n",
    "\n",
    "for X, y in test_dataloader:\n",
    "    print('Shape of X[N, C, H, W]', X.shape)\n",
    "    print('Shape of y: ', y.shape, y.dtype)\n",
    "    break"
   ]
  },
  {
   "cell_type": "markdown",
   "metadata": {},
   "source": [
    "Read more about [loading data in PyTorch](https://pytorch.org/tutorials/beginner/basics/data_tutorial.html)"
   ]
  },
  {
   "cell_type": "markdown",
   "metadata": {},
   "source": [
    "## Creating Models\n",
    "To define a neural network in PyTorch, we create a class that inherits from [nn.Module](https://pytorch.org/docs/stable/generated/torch.nn.Module.html).\n",
    "We define the layers of the network in the `__init__` function and specify how data will pass through the network in the `forward` function.\n",
    "To accelerate operations in the neural network, we move it to the GPU if available.\n",
    "\n",
    "PyTorchにおいて，ニューラルネットワークを定義するには，nn.Moduleを継承するクラスを作成する．\n",
    "`__init__`関数内でネットワークの層を定義し，`forward`関数内でデータがどのようにネットワークを通るかを記述する．\n",
    "利用できるなら，速度を上げるためにGPUにネットワークを移す．"
   ]
  },
  {
   "cell_type": "code",
   "execution_count": 4,
   "metadata": {},
   "outputs": [
    {
     "name": "stdout",
     "output_type": "stream",
     "text": [
      "Using cpu device.\n"
     ]
    }
   ],
   "source": [
    "# Get cpu or gpu device for training.\n",
    "device = 'cuda' if torch.cuda.is_available() else 'cpu'\n",
    "print('Using {} device.'.format(device))\n"
   ]
  },
  {
   "cell_type": "code",
   "execution_count": 5,
   "metadata": {},
   "outputs": [
    {
     "name": "stdout",
     "output_type": "stream",
     "text": [
      "NeuralNetwork(\n",
      "  (flatten): Flatten(start_dim=1, end_dim=-1)\n",
      "  (linear_relu_stack): Sequential(\n",
      "    (0): Linear(in_features=784, out_features=512, bias=True)\n",
      "    (1): ReLU()\n",
      "    (2): Linear(in_features=512, out_features=512, bias=True)\n",
      "    (3): ReLU()\n",
      "    (4): Linear(in_features=512, out_features=10, bias=True)\n",
      "    (5): ReLU()\n",
      "  )\n",
      ")\n"
     ]
    }
   ],
   "source": [
    "# Define model\n",
    "class NeuralNetwork(nn.Module):\n",
    "    def __init__(self):\n",
    "        super(NeuralNetwork, self).__init__()\n",
    "        self.flatten = nn.Flatten()\n",
    "        self.linear_relu_stack = nn.Sequential(\n",
    "            nn.Linear(28*28, 512),\n",
    "            nn.ReLU(),\n",
    "            nn.Linear(512, 512),\n",
    "            nn.ReLU(),\n",
    "            nn.Linear(512, 10),\n",
    "            nn.ReLU()\n",
    "        )\n",
    "        \n",
    "    def forward(self, x):\n",
    "        x = self.flatten(x)\n",
    "        logits = self.linear_relu_stack(x)\n",
    "        return logits\n",
    "    \n",
    "model = NeuralNetwork().to(device)\n",
    "print(model)"
   ]
  },
  {
   "cell_type": "markdown",
   "metadata": {},
   "source": [
    "Read more about building [neural networks in PyTorch](https://pytorch.org/tutorials/beginner/basics/buildmodel_tutorial.html)"
   ]
  },
  {
   "cell_type": "markdown",
   "metadata": {},
   "source": [
    "## Optimizing the Model Parameters\n",
    "To train a model, we need a loss function and an optimizer.\n",
    "\n",
    "モデルを9連するために，損失関数と最適化手法が必要．"
   ]
  },
  {
   "cell_type": "code",
   "execution_count": 6,
   "metadata": {},
   "outputs": [],
   "source": [
    "loss_fn = nn.CrossEntropyLoss()\n",
    "optimizer = torch.optim.SGD(model.parameters(), lr=1e-3)"
   ]
  },
  {
   "cell_type": "markdown",
   "metadata": {},
   "source": [
    "In a single training loop, the model makes predictions on the training dataset (fed to it in batches), and backpropagates the prediction error to adjust the models's parameters.\n",
    "\n",
    "一回の訓練ループの中で，モデルは訓練データセットに対する予測をし，予測誤差を逆伝播してモデルのパラメータを調整する"
   ]
  },
  {
   "cell_type": "code",
   "execution_count": 7,
   "metadata": {},
   "outputs": [],
   "source": [
    "def train(dataloader, model, loss_fn, optimzer):\n",
    "    size = len(dataloader.dataset)\n",
    "    for batch, (X, y) in enumerate(dataloader):\n",
    "        X, y = X.to(device), y.to(device)\n",
    "        \n",
    "        # Compute prediction error\n",
    "        pred = model(X)\n",
    "        loss = loss_fn(pred, y)\n",
    "        \n",
    "        # Backpropagation\n",
    "        optimizer.zero_grad()\n",
    "        loss.backward()\n",
    "        optimizer.step()\n",
    "        \n",
    "        if batch % 100 == 0:\n",
    "            loss, current = loss.item(), batch*len(X)\n",
    "            print(f'loss: {loss:>7f} [{current:>5d}/{size:>5d}]')"
   ]
  },
  {
   "cell_type": "markdown",
   "metadata": {},
   "source": [
    "We also check the model's performance against the test dataset to ensure it is learning.\n",
    "\n",
    "モデルが学習しているかを確認するために，テストデータセットに対するモデルのパフォーマンスをチェックする"
   ]
  },
  {
   "cell_type": "code",
   "execution_count": 8,
   "metadata": {},
   "outputs": [],
   "source": [
    "def test(dataloader, model):\n",
    "    size = len(dataloader.dataset)\n",
    "    model.eval()\n",
    "    test_loss, correct = 0, 0\n",
    "    with torch.no_grad():\n",
    "        for X, y in dataloader:\n",
    "            X, y = X.to(device), y.to(device)\n",
    "            pred = model(X)\n",
    "            test_loss += loss_fn(pred, y).item()\n",
    "            correct += (pred.argmax(1) == y).type(torch.float).sum().item()\n",
    "    test_loss /= size\n",
    "    correct /= size\n",
    "    print(f'Test Error: \\n Accuracy: {(100*correct):>0.1f}%, Avg loss: {test_loss:>8f} \\n')"
   ]
  },
  {
   "cell_type": "markdown",
   "metadata": {},
   "source": [
    "The training process is conducted over several iterations (epochs). \n",
    "During each epoch, the model learns parameters to make better predictions.\n",
    "We print the model's accuracy and loss at each epoch; we'd like to see the accuracy increase and the loss decrease with every epoch.\n",
    "\n",
    "訓練課程は何回か行う(epoch)．\n",
    "エポックの間，モデルはより良い予測をするためにパラメータを学習する．\n",
    "エポックごとに，モデルの精度と誤差を出力する；エポックごとに，精度が増加し，誤差が減少するのが見える．"
   ]
  },
  {
   "cell_type": "code",
   "execution_count": 12,
   "metadata": {},
   "outputs": [
    {
     "name": "stdout",
     "output_type": "stream",
     "text": [
      "Epoch 1\n",
      "------------------------\n",
      "loss: 2.306999 [    0/60000]\n",
      "loss: 2.306620 [ 6400/60000]\n",
      "loss: 2.298018 [12800/60000]\n",
      "loss: 2.296527 [19200/60000]\n",
      "loss: 2.297415 [25600/60000]\n",
      "loss: 2.289053 [32000/60000]\n",
      "loss: 2.281904 [38400/60000]\n",
      "loss: 2.276269 [44800/60000]\n",
      "loss: 2.284163 [51200/60000]\n",
      "loss: 2.271591 [57600/60000]\n",
      "Test Error: \n",
      " Accuracy: 19.8%, Avg loss: 0.035701 \n",
      "\n",
      "Epoch 2\n",
      "------------------------\n",
      "loss: 2.276786 [    0/60000]\n",
      "loss: 2.294239 [ 6400/60000]\n",
      "loss: 2.271836 [12800/60000]\n",
      "loss: 2.269336 [19200/60000]\n",
      "loss: 2.274726 [25600/60000]\n",
      "loss: 2.266478 [32000/60000]\n",
      "loss: 2.247821 [38400/60000]\n",
      "loss: 2.240928 [44800/60000]\n",
      "loss: 2.258650 [51200/60000]\n",
      "loss: 2.235213 [57600/60000]\n",
      "Test Error: \n",
      " Accuracy: 20.0%, Avg loss: 0.035165 \n",
      "\n",
      "Epoch 3\n",
      "------------------------\n",
      "loss: 2.250551 [    0/60000]\n",
      "loss: 2.281789 [ 6400/60000]\n",
      "loss: 2.240177 [12800/60000]\n",
      "loss: 2.231298 [19200/60000]\n",
      "loss: 2.242226 [25600/60000]\n",
      "loss: 2.237740 [32000/60000]\n",
      "loss: 2.201281 [38400/60000]\n",
      "loss: 2.192081 [44800/60000]\n",
      "loss: 2.222845 [51200/60000]\n",
      "loss: 2.185820 [57600/60000]\n",
      "Test Error: \n",
      " Accuracy: 20.1%, Avg loss: 0.034423 \n",
      "\n",
      "Epoch 4\n",
      "------------------------\n",
      "loss: 2.218569 [    0/60000]\n",
      "loss: 2.264865 [ 6400/60000]\n",
      "loss: 2.198849 [12800/60000]\n",
      "loss: 2.176761 [19200/60000]\n",
      "loss: 2.197767 [25600/60000]\n",
      "loss: 2.203260 [32000/60000]\n",
      "loss: 2.142588 [38400/60000]\n",
      "loss: 2.132252 [44800/60000]\n",
      "loss: 2.183512 [51200/60000]\n",
      "loss: 2.129685 [57600/60000]\n",
      "Test Error: \n",
      " Accuracy: 20.6%, Avg loss: 0.033611 \n",
      "\n",
      "Epoch 5\n",
      "------------------------\n",
      "loss: 2.187264 [    0/60000]\n",
      "loss: 2.246863 [ 6400/60000]\n",
      "loss: 2.159083 [12800/60000]\n",
      "loss: 2.122581 [19200/60000]\n",
      "loss: 2.155053 [25600/60000]\n",
      "loss: 2.172841 [32000/60000]\n",
      "loss: 2.091712 [38400/60000]\n",
      "loss: 2.080369 [44800/60000]\n",
      "loss: 2.150639 [51200/60000]\n",
      "loss: 2.087866 [57600/60000]\n",
      "Test Error: \n",
      " Accuracy: 21.7%, Avg loss: 0.032969 \n",
      "\n",
      "Done\n"
     ]
    }
   ],
   "source": [
    "epochs = 5\n",
    "torch.manual_seed(0)\n",
    "for t in range(epochs):\n",
    "    print(f'Epoch {t+1}\\n------------------------')\n",
    "    train(train_dataloader, model, loss_fn, optimizer)\n",
    "    test(test_dataloader, model)\n",
    "print('Done')"
   ]
  },
  {
   "cell_type": "markdown",
   "metadata": {},
   "source": [
    "Read more about [Training your model](https://pytorch.org/tutorials/beginner/basics/optimization_tutorial.html)"
   ]
  },
  {
   "cell_type": "markdown",
   "metadata": {},
   "source": [
    "## Saving Models\n",
    "A common way to save a model is to serialize the internal state dictionary (containing the model performance).\n",
    "\n",
    "モデルの一般的な保存方法は，内部状態ディクショナリをシリアル化することである．"
   ]
  },
  {
   "cell_type": "code",
   "execution_count": 14,
   "metadata": {},
   "outputs": [
    {
     "name": "stdout",
     "output_type": "stream",
     "text": [
      "Saved PyTorch Model State to model.pth\n"
     ]
    }
   ],
   "source": [
    "torch.save(model.state_dict(), 'model.pth')\n",
    "print('Saved PyTorch Model State to model.pth')"
   ]
  },
  {
   "cell_type": "markdown",
   "metadata": {},
   "source": [
    "## Loading Models\n",
    "The process for loading a model includes re-creating the model structure and loading the state dictionary into it.\n",
    "\n",
    "モデルを読み込む過程には，モデル構造の再作成と状態ディクショナリのロードがある．"
   ]
  },
  {
   "cell_type": "code",
   "execution_count": 16,
   "metadata": {},
   "outputs": [
    {
     "data": {
      "text/plain": [
       "<All keys matched successfully>"
      ]
     },
     "execution_count": 16,
     "metadata": {},
     "output_type": "execute_result"
    }
   ],
   "source": [
    "model = NeuralNetwork()\n",
    "model.load_state_dict(torch.load('model.pth'))"
   ]
  },
  {
   "cell_type": "markdown",
   "metadata": {},
   "source": [
    "This model can now be used to make predictions.\n",
    "\n",
    "このモデルはすぐに予測に使うことができる．"
   ]
  },
  {
   "cell_type": "code",
   "execution_count": 19,
   "metadata": {},
   "outputs": [
    {
     "name": "stdout",
     "output_type": "stream",
     "text": [
      "Predited: T-shart/top, Actual: Ankle boot\n"
     ]
    }
   ],
   "source": [
    "classes = ['T-shart/top',\n",
    "           'Trouser',\n",
    "           'Pullover',\n",
    "           'Dress',\n",
    "           'Coat',\n",
    "           'Sandal',\n",
    "           'Shirt',\n",
    "           'Sneaker',\n",
    "           'Bag',\n",
    "           'Ankle boot'\n",
    "          ]\n",
    "\n",
    "model.eval()\n",
    "x, y = test_data[0][0], test_data[0][1]\n",
    "with torch.no_grad():\n",
    "    pred = model(x)\n",
    "    predicted, actual = classes[pred[0].argmax(0)], classes[y]\n",
    "    print(f'Predited: {predicted}, Actual: {actual}')"
   ]
  },
  {
   "cell_type": "markdown",
   "metadata": {},
   "source": [
    "Read more about [Saving & Loading your model](https://pytorch.org/tutorials/beginner/basics/saveloadrun_tutorial.html)"
   ]
  }
 ],
 "metadata": {
  "kernelspec": {
   "display_name": "Python 3",
   "language": "python",
   "name": "python3"
  },
  "language_info": {
   "codemirror_mode": {
    "name": "ipython",
    "version": 3
   },
   "file_extension": ".py",
   "mimetype": "text/x-python",
   "name": "python",
   "nbconvert_exporter": "python",
   "pygments_lexer": "ipython3",
   "version": "3.8.3"
  }
 },
 "nbformat": 4,
 "nbformat_minor": 4
}
